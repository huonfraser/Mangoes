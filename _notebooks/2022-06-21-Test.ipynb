{
 "cells": [
  {
   "cell_type": "markdown",
   "id": "bc63f28c-d49f-44de-a733-6f0ed0219196",
   "metadata": {},
   "source": [
    "# Introduction Test\n",
    "> Part 1 of the mangoes_blog project\n",
    "\n",
    "- branch: master\n",
    "- toc: true \n",
    "- badges: false\n",
    "- comments: false\n",
    "- sticky_rank: 1\n",
    "- author: Huon Fraser\n",
    "- categories: [mangoes]"
   ]
  },
  {
   "cell_type": "code",
   "execution_count": null,
   "id": "bd790de6-be74-44cf-a2d3-dc7929b89f86",
   "metadata": {},
   "outputs": [],
   "source": []
  }
 ],
 "metadata": {
  "kernelspec": {
   "display_name": "Python 3 (ipykernel)",
   "language": "python",
   "name": "python3"
  },
  "language_info": {
   "codemirror_mode": {
    "name": "ipython",
    "version": 3
   },
   "file_extension": ".py",
   "mimetype": "text/x-python",
   "name": "python",
   "nbconvert_exporter": "python",
   "pygments_lexer": "ipython3",
   "version": "3.9.12"
  }
 },
 "nbformat": 4,
 "nbformat_minor": 5
}
